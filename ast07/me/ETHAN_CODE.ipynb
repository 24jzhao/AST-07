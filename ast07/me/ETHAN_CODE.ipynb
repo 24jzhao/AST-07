{
  "cells": [
    {
      "cell_type": "markdown",
      "metadata": {
        "jukit_cell_id": "8hwXvaNZnh"
      },
      "source": [
        "# OVERVIEW:\n",
        "The data required for this project can be found at this link: \n",
        "https://www.cadc-ccda.hia-iha.nrc-cnrc.gc.ca/en/megapipe/cfhtls/dfspt.html\n",
        "One must download the DeepVarFull.tar.gz file and drag it/download it into the Jupyter notebook or project to work with it. The data should contain approximately 28000 files to be extracted in which each file represents an astronomical object. There is information about the object within each file, like its magnitude measurements and the filters in which the measurements were taken, etc.. Each of the astronomical objects had several brightness measurements taken in each of the six filters ('U','G','R','I1','I2', and 'Z' are our names for them).\n",
        "In the code below, you will find that we have combined the fourth and fifth filters (i1 and i2) into a single filter, thus having more magnitude measurements than the other filters."
      ]
    },
    {
      "cell_type": "code",
      "metadata": {
        "jukit_cell_id": "NjtQqynrtp"
      },
      "source": [
        "#downloading gatsby"
      ],
      "outputs": [],
      "execution_count": null
    },
    {
      "cell_type": "code",
      "metadata": {
        "jukit_cell_id": "8X5ZoLSZ5N"
      },
      "source": [
        "import sys\n",
        "#import statements\n",
        "import numpy as np\n",
        "import math\n",
        "import pandas as pd\n",
        "import os\n",
        "import warnings\n",
        "from astropy.stats import sigma_clip\n",
        "from astropy.io import fits\n",
        "import matplotlib.pyplot as plt\n",
        "import numpy.ma as ma\n",
        "import copy\n",
        "from matplotlib import rc\n",
        "import numpy.ma as ma\n",
        "import matplotlib as mpl\n",
        "import sklearn.metrics\n",
        "from itertools import chain\n",
        "from gatspy import datasets, periodic\n",
        "from matplotlib.backends.backend_pdf import PdfPages\n",
        "from sklearn.preprocessing import PolynomialFeatures\n",
        "from sklearn.pipeline import make_pipeline\n",
        "from sklearn.linear_model import LinearRegression\n",
        "\n",
        "rc('font', family='serif')\n",
        "rc('mathtext', fontset='cm')\n",
        "\n",
        "\n",
        "\n",
        "\n",
        "\n",
        "\n",
        "\n",
        "\n",
        "#%matplotlib notebook\n",
        "\n",
        "full_file_list = os.listdir('../full') # creates a Python list containing the file paths for every object's time series"
      ],
      "outputs": [],
      "execution_count": null
    },
    {
      "cell_type": "code",
      "metadata": {
        "jukit_cell_id": "YN09D7F4yY"
      },
      "source": [
        "df = pd.read_csv('all_categ_vals.csv')\n",
        "#df.drop('Unnamed: 0',inplace=True,axis=1)\n",
        "all_categ_vals = df.values.tolist()\n",
        "\n",
        "#Get indicies for value set\n",
        "three_object_indexes = [w for w,x,y,z in all_categ_vals if (x==3 and y == 3 and z == 3)]\n",
        "#print(three_object_indexes)\n",
        "#len(three_object_indexes)"
      ],
      "outputs": [
        {
          "output_type": "stream",
          "name": "stdout",
          "text": "[[32], [87], [105], [107], [130], [149], [235], [286], [346], [411], [467], [503], [509], [570], [656], [743], [857], [951], [1041], [1159], [1193], [1248], [1259], [1276], [1308], [1359], [1457], [1489], [1675], [1701], [1747], [1813], [1947], [2116], [2259], [2433], [2556], [2590], [2629], [2655], [2687], [2831], [2847], [2882], [2967], [3073], [3127], [3136], [3258], [3316], [3339], [3341], [3380], [3387], [3467], [3483], [3494], [3540], [3650], [3666], [3714], [3747], [3759], [3841], [3881], [3908], [3919], [3933], [3938], [3963], [4020], [4041], [4082], [4126], [4546], [4633], [4639], [4655], [5042], [5096], [5101], [5388], [5698], [5737], [5795], [5865], [5895], [5942], [5946], [5975], [6003], [6200], [6342], [6409], [6601], [6636], [6642], [6643], [6708], [6757], [6782], [6814], [6841], [7175], [7191], [7265], [7380], [7498], [7504], [7516], [7595], [7679], [7690], [7701], [7953], [7989], [8098], [8149], [8220], [8230], [8369], [8379], [8382], [8393], [8444], [8499], [8648], [8674], [8901], [9008], [9075], [9093], [9101], [9180], [9226], [9267], [9301], [9371], [9383], [9412], [9473], [9485], [9648], [9707], [9728], [9752], [9790], [9796], [9840], [9875], [10031], [10072], [10082], [10092], [10147], [10319], [10326], [10353], [10385], [10521], [10592], [10660], [10728], [10753], [10948], [11080], [11094], [11316], [11318], [11364], [11387], [11409], [11555], [11800], [11827], [11834], [11867], [12061], [12164], [12175], [12422], [12581], [12672], [12724], [12736], [12747], [12800], [12839], [12855], [12908], [13016], [13045], [13109], [13153], [13278], [13352], [13369], [13410], [13426], [13583], [13664], [13717], [13728], [13874], [14076], [14116], [14146], [14257], [14284], [14302], [14308], [14385], [14412], [14452], [14536], [14575], [14576], [14657], [14715], [14750], [14758], [14760], [14864], [14917], [14931], [15102], [15141], [15218], [15265], [15306], [15377], [15422], [15449], [15565], [15581], [15615], [15698], [15741], [15773], [15876], [16011], [16111], [16137], [16176], [16196], [16229], [16272], [16288], [16318], [16461], [16492], [16665], [16667], [16744], [16982], [17007], [17009], [17057], [17148], [17179], [17376], [17395], [17411], [17590], [17624], [17701], [17714], [17759], [17775], [17800], [17940], [17947], [18015], [18239], [18297], [18356], [18444], [18460], [18569], [18588], [18815], [18952], [18979], [19036], [19107], [19207], [19210], [19348], [19485], [19596], [19640], [19740], [19771], [19850], [19875], [20102], [20235], [20267], [20333], [20343], [20388], [20506], [20630], [20665], [20715], [20784], [20845], [20895], [20978], [21051], [21148], [21152], [21157], [21249], [21251], [21262], [21335], [21412], [21413], [21423], [21506], [21552], [21707], [21775], [21777], [21912], [21916], [21958], [21975], [21976], [22176], [22232], [22252], [22298], [22301], [22303], [22351], [22467], [22471], [22491], [22549], [22625], [22638], [22841], [22871], [22883], [22898], [23074], [23446], [23499], [23513], [23588], [23601], [23618], [23843], [24056], [24169], [24264], [24323], [24374], [24392], [24428], [24483], [24504], [24510], [24550], [24580], [24622], [24656], [24729], [24743], [24938], [24951], [25137], [25189], [25480], [25536], [25545], [25600], [25604], [25626], [25702], [25809], [25869], [25891], [25896], [25952], [26059], [26136], [26268], [26470], [26530], [26563], [26707], [26725], [26746], [26757]]\n"
        }
      ],
      "execution_count": 1
    },
    {
      "cell_type": "code",
      "metadata": {
        "jukit_cell_id": "I219QxkTi5"
      },
      "source": [],
      "outputs": [],
      "execution_count": null
    }
  ],
  "metadata": {
    "anaconda-cloud": {},
    "kernelspec": {
      "display_name": "python",
      "language": "python",
      "name": "python3"
    }
  },
  "nbformat": 4,
  "nbformat_minor": 4
}
