{
  "cells": [
    {
      "cell_type": "code",
      "metadata": {
        "jukit_cell_id": "yckObVB2wW"
      },
      "source": [
        "#Hopefully Generate working PDFs to out/\n",
        "#Also test local libraries so clean code\n",
        "import numpy as np\n",
        "import math\n",
        "import pandas as pd\n",
        "import os\n",
        "import warnings\n",
        "from astropy.stats import sigma_clip\n",
        "from astropy.io import fits\n",
        "import matplotlib.pyplot as plt\n",
        "import numpy.ma as ma\n",
        "import copy\n",
        "from matplotlib import rc\n",
        "import numpy.ma as ma\n",
        "import matplotlib as mpl\n",
        "import sklearn.metrics\n",
        "from itertools import chain\n",
        "from gatspy import datasets, periodic\n",
        "from matplotlib.backends.backend_pdf import PdfPages\n",
        "from sklearn.preprocessing import PolynomialFeatures\n",
        "from sklearn.pipeline import make_pipeline\n",
        "from sklearn.linear_model import LinearRegression\n",
        "from numpy.random import default_rng\n",
        "#import locutils -- works\n",
        "#import astfunc -- works\n",
        "obj=4 #3s index no. \n",
        "rc('font', family='serif')\n",
        "rc('mathtext', fontset='cm')\n",
        "full_file_list = os.listdir('../full') # creates a Python list containing the file paths for every object's time series"
      ],
      "outputs": [],
      "execution_count": null
    },
    {
      "cell_type": "code",
      "metadata": {
        "jukit_cell_id": "CxZx0ewWbN"
      },
      "source": [
        "#A ******* disaster...\n",
        "\n",
        "df = pd.read_csv('../csv/file_list.csv')\n",
        "file_list = df.values.tolist()\n",
        "#retrieve list of known >20MOM vals\n",
        "df_l = pd.read_csv('../csv/lsa.csv')\n",
        "lsa = df_l.values.tolist()\n",
        "#len(lsa)\n",
        "#make col 0 an int like it should be\n",
        "for i in range(len(lsa)):\n",
        "    del lsa[i][1]\n",
        "    lsa[i] = int(lsa[i][0])\n",
        "\n",
        "df_l1 = pd.read_csv('../csv/lsa1.csv')\n",
        "lsa1 = df_l1.values.tolist()\n",
        "for i in range(len(lsa1)):\n",
        "    lsa1[i][0] = int(lsa1[i][0])\n",
        "\n",
        "#this only works when fnames is just the object name\n",
        "#fnames = file_list[lsa1[lsa[obj]][0]]\n",
        "\n",
        "print(lsa1)\n",
        "\n",
        "df_cat = pd.read_csv('../csv/all_categ_vals.csv')\n",
        "all_categ_vals = df_cat.values.tolist()\n",
        "all_categ_sort = [[w,x,y,z] for w,x,y,z in all_categ_vals if (x == 3 and y == 3 and z == 3)]\n",
        "#Much cleaner way of using lsa\n",
        "#fnames = (file_list[int(lsa[obj][0])])"
      ],
      "outputs": [
        {
          "output_type": "stream",
          "name": "stdout",
          "text": "[[32, 38.27849655813822], [130, 51.06580522004588], [346, 58.07553136821736], [503, 56.51397319786628], [570, 30.96154521117509], [743, 28.938532160597006], [951, 60.50480608189349], [1041, 37.97296384997651], [1248, 35.64942095539538], [1259, 33.361920078373544], [1308, 29.46477579280008], [1457, 36.31761357099042], [1675, 38.9592690697768], [1747, 47.449974605009615], [1813, 24.858180162752245], [2259, 46.32697228065098], [2433, 43.68927722336131], [2556, 25.09384499087865], [2590, 42.63781487488027], [2629, 33.68090209090419], [2655, 34.965047519056284], [3073, 33.55859238633304], [3258, 24.94178603749639], [3316, 55.92436855323568], [3341, 46.48738021639729], [3650, 36.46933158931351], [3666, 52.6302016485628], [3714, 48.68993851789249], [3759, 30.58763478220377], [3881, 48.40964107247068], [3908, 57.36175839524541], [3963, 37.5486687387193], [4082, 35.953593658753654], [4126, 39.953405466977145], [4633, 30.88872448730432], [5096, 49.27135449614008], [5388, 49.241679492550176], [5698, 48.54777788152183], [5737, 46.24984911022831], [6003, 34.33559111308175], [6200, 23.79711634864461], [6409, 41.36335359999494], [6642, 20.078717803216737], [6757, 47.57921865090544], [7504, 84.38969613487379], [7701, 54.98790403719882], [7953, 36.081505211126505], [8230, 50.94848351858149], [8369, 27.37548982395227], [8444, 37.23489251932768], [8648, 48.2670793215335], [8674, 25.354090735741845], [8901, 37.43532971391071], [9075, 46.30104349450025], [9226, 45.84269800151379], [9267, 41.20821658797944], [9301, 38.13634498528194], [9473, 85.00128422898514], [9485, 42.39778738400524], [9707, 35.65485574512413], [9875, 38.53558367789546], [10031, 29.83206993967835], [10082, 37.21441733366876], [10147, 61.353412820454416], [10385, 44.22379279080288], [10592, 42.46737228579791], [11080, 53.36555004738154], [11094, 43.496477328100674], [11318, 34.73986457413716], [11364, 53.971222718968086], [11555, 39.79023658707984], [11834, 45.84553246927152], [12422, 31.62586994444837], [12672, 39.82327231858432], [12724, 22.444648972707533], [12908, 33.40909719763521], [13016, 28.03523894336958], [13109, 28.88292490838118], [13153, 49.6903142275766], [13352, 33.77856281397308], [13426, 49.464548331164245], [13583, 32.14366033734351], [13717, 47.438909290474456], [13874, 41.38462562337696], [14116, 40.200043655788114], [14284, 30.89172045722152], [14308, 46.19348434790968], [14575, 37.37481223389693], [14657, 41.06183336939749], [14917, 28.408830854809363], [15141, 39.811967760472506], [15265, 43.31882774256314], [15306, 41.26415561736231], [15377, 27.311259614846502], [15422, 25.568689933188857], [15565, 43.78747266751086], [15615, 59.25107089248144], [15741, 37.57405687140505], [15773, 52.14358205870675], [16137, 42.46244793200381], [16176, 25.60876075272889], [16229, 30.54878723169796], [16272, 47.63887424771857], [16288, 31.19214263367358], [16492, 52.78767088102751], [16665, 38.83823474319145], [16667, 38.10441350096998], [16744, 51.58488663783907], [17057, 22.26183147943449], [17148, 43.27026821730216], [17179, 57.43200080431724], [17411, 34.04190365868459], [17701, 39.2913615970372], [17714, 34.63913374330324], [17775, 21.485666625501555], [17940, 36.97216289128627], [18356, 50.74350217126842], [18569, 34.1191773224551], [19107, 31.40223698462132], [19640, 46.2238331768912], [19740, 42.47612912827611], [20235, 52.356801807371], [20506, 33.65727574141548], [20665, 28.787020542414865], [20784, 41.31105541555496], [21051, 29.14146134076127], [21148, 30.755419918065247], [21249, 22.45259288182991], [21423, 47.39501489747585], [21777, 33.26498583643811], [21916, 46.56131297072398], [21975, 25.67140088943614], [21976, 37.46652822316437], [22351, 45.74219889364574], [22491, 49.11092362669774], [22549, 30.43111701570138], [22638, 56.9060135559613], [22841, 38.54889971266075], [22871, 31.43090525500824], [23513, 49.93686824337857], [23588, 23.131894887487544], [23601, 43.25032523809619], [23843, 25.841499812118784], [24056, 30.7109663651099], [24264, 34.127838754894206], [24504, 39.645379178326806], [24580, 38.06008705892748], [24656, 52.97132520825056], [24743, 39.08755240535508], [24938, 27.566728081316207], [24951, 67.8311025374962], [25536, 34.205304575301646], [25600, 37.63471901937761], [25604, 32.81669294242883], [25702, 43.02839485716163], [26059, 33.03964281481159], [26530, 45.18302607202516], [26746, 34.03102966392828]]\n"
        }
      ],
      "execution_count": 1
    },
    {
      "cell_type": "code",
      "metadata": {
        "jukit_cell_id": "5eWx9TXGWn"
      },
      "source": [
        "\"\"\"\n",
        "mastlist=[]\n",
        "for i in range(len(lsa)):\n",
        "    for j in range(len(lsa1)):\n",
        "        for k in range(len(file_list)):\n",
        "            if lsa[i] == lsa1[i] \n",
        "\"\"\""
      ],
      "outputs": [
        {
          "output_type": "stream",
          "name": "stdout",
          "text": "\n"
        },
        {
          "output_type": "execute_result",
          "execution_count": 2,
          "data": {
            "text/plain": "'\\nmastlist=[]\\nfor i in range(len(lsa)):\\n    for j in range(len(lsa1)):\\n        for k in range(len(file_list)):\\n            if lsa[i] == lsa1[i] \\n'"
          },
          "metadata": {}
        }
      ],
      "execution_count": 2
    },
    {
      "cell_type": "code",
      "metadata": {
        "jukit_cell_id": "frvH1rjeDx"
      },
      "source": [
        "all_mags_narrow = pd.read_csv('../csv/all_mags_narrow.csv')#.values.tolist()\n",
        "all_mjd_narrow = pd.read_csv('../csv/all_mjd_narrow.csv')#.values.tolist()\n",
        "all_magerrs_narrow = pd.read_csv('../csv/all_magerrs_narrow.csv')#.values.tolist()\n",
        "all_mags_narrow.drop('Unnamed: 0',inplace=True,axis=1)\n",
        "all_mjd_narrow.drop('Unnamed: 0',inplace=True,axis=1)\n",
        "all_magerrs_narrow.drop('Unnamed: 0',inplace=True,axis=1)\n",
        "all_mags = all_mags_narrow.values.tolist()\n",
        "all_mjd = all_mjd_narrow.values.tolist()\n",
        "all_magerrs = all_magerrs_narrow.values.tolist()\n",
        "for i in range(len(all_mags)):\n",
        "    for j in range(len(all_mags[i])):\n",
        "        all_mags[i][j] = all_mags[i][j][1:len(all_mags[i][j])-1].replace('\\n','').split()\n",
        "        all_mjd[i][j] = all_mjd[i][j][1:len(all_mjd[i][j])-1].replace('\\n','').split()\n",
        "        all_magerrs[i][j] = all_magerrs[i][j][1:len(all_magerrs[i][j])-1].replace('\\n','').split()\n",
        "for i in range(len(all_mags)):\n",
        "    for j in range(len(all_mags[i])):\n",
        "        for z in range(len(all_mags[i][j])):\n",
        "            all_mags[i][j][z] = float(all_mags[i][j][z])\n",
        "            all_mjd[i][j][z] = float(all_mjd[i][j][z])\n",
        "            all_magerrs[i][j][z] = float(all_magerrs[i][j][z])"
      ],
      "outputs": [],
      "execution_count": null
    },
    {
      "cell_type": "code",
      "metadata": {
        "jukit_cell_id": "ReShyMYaNw"
      },
      "source": [
        "#generate random values to run light curves with\n",
        "#rint = locutils.randomgen(lsa, 1)"
      ],
      "outputs": [],
      "execution_count": null
    },
    {
      "cell_type": "code",
      "metadata": {
        "jukit_cell_id": "8yhsje2Zmb"
      },
      "source": [
        "\"\"\"\n",
        "def load_one_timeseries(file_name):\n",
        "    timestamps = []\n",
        "    mags = []\n",
        "    magerrs = []\n",
        "    expnums = []\n",
        "    filters = []\n",
        "\n",
        "    with open('../full/'+file_name) as data_file:\n",
        "        first_line = data_file.readline()\n",
        "        field = (first_line.split())[2]\n",
        "        for line in data_file:\n",
        "            if not line.startswith('#'):\n",
        "                data = line.split()\n",
        "                timestamps.append(data[0])\n",
        "                mags.append(data[1])\n",
        "                magerrs.append(data[2])\n",
        "                expnums.append(data[3])\n",
        "                filters.append(data[8])\n",
        "\n",
        "    timestamps = np.asarray(timestamps, dtype=float)\n",
        "    mags = np.asarray(mags, dtype=float)\n",
        "    magerrs = np.asarray(magerrs, dtype=float)\n",
        "    expnums = np.asarray(expnums, dtype=int)\n",
        "\n",
        "    int_filters = np.empty(len(filters), dtype=int)\n",
        "    with warnings.catch_warnings():\n",
        "        warnings.simplefilter(action='ignore', category=FutureWarning)\n",
        "        int_filters[np.where(np.asarray(filters)=='U')[0]] = 0\n",
        "        int_filters[np.where(np.asarray(filters)=='G')[0]] = 1\n",
        "        int_filters[np.where(np.asarray(filters)=='R')[0]] = 2\n",
        "        int_filters[np.where(np.asarray(filters)=='I')[0]] = 3\n",
        "        int_filters[np.where(np.asarray(filters)=='I2')[0]] = 4\n",
        "        int_filters[np.where(np.asarray(filters)=='Z')[0]] = 5\n",
        "\n",
        "    num_entries = len(timestamps)\n",
        "\n",
        "    return field, timestamps, mags, magerrs, expnums, int_filters, num_entries\n",
        "\"\"\""
      ],
      "outputs": [
        {
          "output_type": "stream",
          "name": "stdout",
          "text": "\n"
        },
        {
          "output_type": "execute_result",
          "execution_count": 3,
          "data": {
            "text/plain": "\"\\ndef load_one_timeseries(file_name):\\n    timestamps = []\\n    mags = []\\n    magerrs = []\\n    expnums = []\\n    filters = []\\n\\n    with open('../full/'+file_name) as data_file:\\n        first_line = data_file.readline()\\n        field = (first_line.split())[2]\\n        for line in data_file:\\n            if not line.startswith('#'):\\n                data = line.split()\\n                timestamps.append(data[0])\\n                mags.append(data[1])\\n                magerrs.append(data[2])\\n                expnums.append(data[3])\\n                filters.append(data[8])\\n\\n    timestamps = np.asarray(timestamps, dtype=float)\\n    mags = np.asarray(mags, dtype=float)\\n    magerrs = np.asarray(magerrs, dtype=float)\\n    expnums = np.asarray(expnums, dtype=int)\\n\\n    int_filters = np.empty(len(filters), dtype=int)\\n    with warnings.catch_warnings():\\n        warnings.simplefilter(action='ignore', category=FutureWarning)\\n        int_filters[np.where(np.asarray(filters)=='U')[0]] = 0\\n        int_filters[np.where(np.asarray(filters)=='G')[0]] = 1\\n        int_filters[np.where(np.asarray(filters)=='R')[0]] = 2\\n        int_filters[np.where(np.asarray(filters)=='I')[0]] = 3\\n        int_filters[np.where(np.asarray(filters)=='I2')[0]] = 4\\n        int_filters[np.where(np.asarray(filters)=='Z')[0]] = 5\\n\\n    num_entries = len(timestamps)\\n\\n    return field, timestamps, mags, magerrs, expnums, int_filters, num_entries\\n\""
          },
          "metadata": {}
        }
      ],
      "execution_count": 3
    },
    {
      "cell_type": "code",
      "metadata": {
        "jukit_cell_id": "d439aYUHyM"
      },
      "source": [
        "\"\"\"\n",
        "def load_one_timeseries_field(file_name):\n",
        "    timestamps = []\n",
        "    mags = []\n",
        "    magerrs = []\n",
        "    expnums = []\n",
        "    filters = []\n",
        "\n",
        "    with open('../full/'+file_name) as data_file:\n",
        "        first_line = data_file.readline()\n",
        "        field = (first_line.split())[2]\n",
        "        for line in data_file:\n",
        "            if not line.startswith('#'):\n",
        "                data = line.split()\n",
        "                timestamps.append(data[0])\n",
        "                mags.append(data[1])\n",
        "                magerrs.append(data[2])\n",
        "                expnums.append(data[3])\n",
        "                filters.append(data[8])\n",
        "\n",
        "    timestamps = np.asarray(timestamps, dtype=float)\n",
        "    mags = np.asarray(mags, dtype=float)\n",
        "    magerrs = np.asarray(magerrs, dtype=float)\n",
        "    expnums = np.asarray(expnums, dtype=int)\n",
        "\n",
        "    int_filters = np.empty(len(filters), dtype=int)\n",
        "    with warnings.catch_warnings():\n",
        "        warnings.simplefilter(action='ignore', category=FutureWarning)\n",
        "        int_filters[np.where(np.asarray(filters)=='U')[0]] = 0\n",
        "        int_filters[np.where(np.asarray(filters)=='G')[0]] = 1\n",
        "        int_filters[np.where(np.asarray(filters)=='R')[0]] = 2\n",
        "        int_filters[np.where(np.asarray(filters)=='I')[0]] = 3\n",
        "        int_filters[np.where(np.asarray(filters)=='I2')[0]] = 4\n",
        "        int_filters[np.where(np.asarray(filters)=='Z')[0]] = 5\n",
        "\n",
        "    num_entries = len(timestamps)\n",
        "\n",
        "    return field, timestamps, mags, magerrs, expnums, int_filters, num_entries\n",
        "\n",
        "\"\"\""
      ],
      "outputs": [
        {
          "output_type": "stream",
          "name": "stdout",
          "text": "\n"
        },
        {
          "output_type": "execute_result",
          "execution_count": 4,
          "data": {
            "text/plain": "\"\\ndef load_one_timeseries_field(file_name):\\n    timestamps = []\\n    mags = []\\n    magerrs = []\\n    expnums = []\\n    filters = []\\n\\n    with open('../full/'+file_name) as data_file:\\n        first_line = data_file.readline()\\n        field = (first_line.split())[2]\\n        for line in data_file:\\n            if not line.startswith('#'):\\n                data = line.split()\\n                timestamps.append(data[0])\\n                mags.append(data[1])\\n                magerrs.append(data[2])\\n                expnums.append(data[3])\\n                filters.append(data[8])\\n\\n    timestamps = np.asarray(timestamps, dtype=float)\\n    mags = np.asarray(mags, dtype=float)\\n    magerrs = np.asarray(magerrs, dtype=float)\\n    expnums = np.asarray(expnums, dtype=int)\\n\\n    int_filters = np.empty(len(filters), dtype=int)\\n    with warnings.catch_warnings():\\n        warnings.simplefilter(action='ignore', category=FutureWarning)\\n        int_filters[np.where(np.asarray(filters)=='U')[0]] = 0\\n        int_filters[np.where(np.asarray(filters)=='G')[0]] = 1\\n        int_filters[np.where(np.asarray(filters)=='R')[0]] = 2\\n        int_filters[np.where(np.asarray(filters)=='I')[0]] = 3\\n        int_filters[np.where(np.asarray(filters)=='I2')[0]] = 4\\n        int_filters[np.where(np.asarray(filters)=='Z')[0]] = 5\\n\\n    num_entries = len(timestamps)\\n\\n    return field, timestamps, mags, magerrs, expnums, int_filters, num_entries\\n\\n\""
          },
          "metadata": {}
        }
      ],
      "execution_count": 4
    },
    {
      "cell_type": "code",
      "metadata": {
        "jukit_cell_id": "H4NDwEnVq2"
      },
      "source": [
        "\"\"\"\n",
        "def get_num_measurements(file_list, by_filter=False):\n",
        "    if by_filter==False:\n",
        "        num_measurements = np.empty(len(file_list))\n",
        "        for i, fname in enumerate(file_list):\n",
        "            _, _, _, _, _, _, num = load_one_timeseries(fname)\n",
        "            num_measurements[i] = num\n",
        "    elif by_filter==True:\n",
        "        num_measurements = np.empty((len(file_list), 6))\n",
        "        for i, fname in enumerate(file_list):\n",
        "            _, _, _, _, _, filters, _ = load_one_timeseries(fname)\n",
        "            for j in range(6):\n",
        "                num_measurements[i,j] = np.sum(filters==j)\n",
        "    return num_measurements"
      ],
      "outputs": [
        {
          "output_type": "stream",
          "name": "stdout",
          "text": "\u001b[0;36m  Input \u001b[0;32mIn [123]\u001b[0;36m\u001b[0m\n\u001b[0;31m    \"\"\"\u001b[0m\n\u001b[0m    ^\u001b[0m\n\u001b[0;31mSyntaxError\u001b[0m\u001b[0;31m:\u001b[0m incomplete input\n\n"
        }
      ],
      "execution_count": 5
    },
    {
      "cell_type": "code",
      "metadata": {
        "jukit_cell_id": "KISghI7R2g"
      },
      "source": [
        "#df = pd.read_csv('../csv/file_list')\n",
        "#file_list = df.tolist()\n",
        "\n",
        "#if not file_list:\n",
        "    #num_measurements = astfunc.get_num_measurements(full_file_list)\n",
        "num_measurements = get_num_measurements(full_file_list)\n",
        "file_list = (np.asarray(full_file_list))[num_measurements>15]\n",
        "num_measurements_by_filter = get_num_measurements(file_list, by_filter=True)\n",
        "    #num_measurements_by_filter = astfunc.get_num_measurements(file_list, by_filter=True)\n",
        "file_list = file_list[np.all(num_measurements_by_filter>=15, axis=1)]\n",
        "\"\"\""
      ],
      "outputs": [
        {
          "output_type": "stream",
          "name": "stdout",
          "text": "\u001b[0;36m  Input \u001b[0;32mIn [124]\u001b[0;36m\u001b[0m\n\u001b[0;31m    \"\"\"\u001b[0m\n\u001b[0m    ^\u001b[0m\n\u001b[0;31mSyntaxError\u001b[0m\u001b[0;31m:\u001b[0m incomplete input\n\n"
        }
      ],
      "execution_count": 6
    },
    {
      "cell_type": "code",
      "metadata": {
        "jukit_cell_id": "1qr73Uiepz"
      },
      "source": [
        "def data_format (object_number):\n",
        "    filts = []\n",
        "    temp_u = ['u' for i in all_mags[object_number][0]]\n",
        "    temp_g = ['g' for i in all_mags[object_number][1]]\n",
        "    temp_r = ['r' for i in all_mags[object_number][2]]\n",
        "    temp_i = ['i' for i in all_mags[object_number][3]]\n",
        "    temp_z = ['z' for i in all_mags[object_number][4]]\n",
        "    filts.append(temp_u)\n",
        "    filts.append(temp_g)\n",
        "    filts.append(temp_r)\n",
        "    filts.append(temp_i)\n",
        "    filts.append(temp_z)\n",
        "    filts = list(chain.from_iterable(filts))\n",
        "    mags = list(chain.from_iterable(all_mags[object_number])) #turning 2d array into 1d\n",
        "    t = list(chain.from_iterable(all_mjd[object_number]))\n",
        "    #dy = [1 for i in mags]\n",
        "    dy = list(chain.from_iterable(all_magerrs[object_number]))\n",
        "    dy = [99 if i == 0 else i for i in dy]\n",
        "    return t, mags, dy, filts"
      ],
      "outputs": [],
      "execution_count": null
    },
    {
      "cell_type": "code",
      "metadata": {
        "jukit_cell_id": "VIRQ3CdD6W"
      },
      "source": [
        "t, mags, dy, filts = data_format(obj)\n",
        "obj = 0\n",
        "print(obj)\n",
        "periods = np.linspace(0.1, 1.0, 1000000) # This defines the search range of your period, you can specify it at your will. These are in days."
      ],
      "outputs": [],
      "execution_count": null
    },
    {
      "cell_type": "code",
      "metadata": {
        "jukit_cell_id": "dCi5Pk5Qef"
      },
      "source": [
        "LS_multi = periodic.LombScargleMultiband(Nterms_base=1, Nterms_band=0)#initiate structure variable\n",
        "LS_multi.fit(t, mags, dy, filts)#input our data\n",
        "P_multi = LS_multi.periodogram(periods)#function where input is periods"
      ],
      "outputs": [
        {
          "output_type": "stream",
          "name": "stdout",
          "text": "\u001b[0;31m----------\u001b[0m\n\u001b[0;31mNameError\u001b[0mTraceback (most recent call last)\nInput \u001b[0;32mIn [130]\u001b[0m, in \u001b[0;36m<cell line: 2>\u001b[0;34m()\u001b[0m\n\u001b[1;32m      1\u001b[0m LS_multi \u001b[38;5;241m=\u001b[39m periodic\u001b[38;5;241m.\u001b[39mLombScargleMultiband(Nterms_base\u001b[38;5;241m=\u001b[39m\u001b[38;5;241m1\u001b[39m, Nterms_band\u001b[38;5;241m=\u001b[39m\u001b[38;5;241m0\u001b[39m)\u001b[38;5;66;03m#initiate structure variable\u001b[39;00m\n\u001b[0;32m----> 2\u001b[0m LS_multi\u001b[38;5;241m.\u001b[39mfit(\u001b[43mt\u001b[49m, mags, dy, filts)\u001b[38;5;66;03m#input our data\u001b[39;00m\n\u001b[1;32m      3\u001b[0m P_multi \u001b[38;5;241m=\u001b[39m LS_multi\u001b[38;5;241m.\u001b[39mperiodogram(periods)\n\n\u001b[0;31mNameError\u001b[0m: name 't' is not defined\n"
        }
      ],
      "execution_count": 7
    },
    {
      "cell_type": "code",
      "metadata": {
        "jukit_cell_id": "8Iu4cQ1yhl"
      },
      "source": [
        "plt.ion() #turns figure display on\n",
        "plt.figure()\n",
        "plt.scatter(periods, P_multi, s = 0.05)\n",
        "best_period = max(P_multi)\n",
        "for i in range(len(P_multi)):\n",
        "    if P_multi[i] == best_period:\n",
        "        index = i\n",
        "print(periods[index])"
      ],
      "outputs": [
        {
          "output_type": "stream",
          "name": "stdout",
          "text": "\u001b[0;31m----------\u001b[0m\n\u001b[0;31mNameError\u001b[0mTraceback (most recent call last)\nInput \u001b[0;32mIn [128]\u001b[0m, in \u001b[0;36m<cell line: 3>\u001b[0;34m()\u001b[0m\n\u001b[1;32m      1\u001b[0m plt\u001b[38;5;241m.\u001b[39mion() \u001b[38;5;66;03m#turns figure display on\u001b[39;00m\n\u001b[1;32m      2\u001b[0m plt\u001b[38;5;241m.\u001b[39mfigure()\n\u001b[0;32m----> 3\u001b[0m plt\u001b[38;5;241m.\u001b[39mscatter(periods, \u001b[43mP_multi\u001b[49m, s \u001b[38;5;241m=\u001b[39m \u001b[38;5;241m0.05\u001b[39m)\n\u001b[1;32m      4\u001b[0m best_period \u001b[38;5;241m=\u001b[39m \u001b[38;5;28mmax\u001b[39m(P_multi)\n\u001b[1;32m      5\u001b[0m \u001b[38;5;28;01mfor\u001b[39;00m i \u001b[38;5;129;01min\u001b[39;00m \u001b[38;5;28mrange\u001b[39m(\u001b[38;5;28mlen\u001b[39m(P_multi)):\n\n\u001b[0;31mNameError\u001b[0m: name 'P_multi' is not defined\n"
        }
      ],
      "execution_count": 8
    },
    {
      "cell_type": "code",
      "metadata": {
        "jukit_cell_id": "uI5MCQv74t"
      },
      "source": [],
      "outputs": [],
      "execution_count": null
    },
    {
      "cell_type": "code",
      "metadata": {
        "jukit_cell_id": "TLuSYeyvdV"
      },
      "source": [
        "def folded_light_curve(obj, period, pdf_name):\n",
        "    \"\"\"\n",
        "    Function to create folded light curve\n",
        "    Parameters\n",
        "    ---\n",
        "    objects: int index of object of interest in file_list\n",
        "    Returns\n",
        "    ---\n",
        "    pdf of magnitude vs MJD for all objects\n",
        "    \"\"\"\n",
        "    plt.ioff()\n",
        "    with PdfPages(pdf_name) as pdf:\n",
        "        plt.figure(figsize = (9, 12))\n",
        "        plt.xlabel('Phase')\n",
        "        plt.ylabel('Magnitude')\n",
        "        plt.gca().invert_yaxis()\n",
        "        u_phase = [(i%period)/period for i in all_mjd[obj][0]]\n",
        "        g_phase = [(i%period)/period for i in all_mjd[obj][1]]\n",
        "        r_phase = [(i%period)/period for i in all_mjd[obj][2]]\n",
        "        i_phase = [(i%period)/period for i in all_mjd[obj][3]]\n",
        "        z_phase = [(i%period)/period for i in all_mjd[obj][4]]\n",
        "        #f*p^2/length of observations, f is about 0.1, f = phase error for individual cycle\n",
        "        plt.scatter(u_phase, all_mags[obj][0], s = 5, c = 'blue', label = 'u')\n",
        "        plt.scatter(g_phase, all_mags[obj][1], s = 5, c = 'green', label = 'g')\n",
        "        plt.scatter(r_phase, all_mags[obj][2], s = 5, c = 'purple', label = 'r')\n",
        "        plt.scatter(i_phase, all_mags[obj][3], s = 5, c = 'gold', label = 'i')\n",
        "        plt.scatter(z_phase, all_mags[obj][4], s = 5, c = 'tab:red', label = 'z')\n",
        "        plt.legend()\n",
        "        plt.title(''+ \" (\" + str(obj) + \")\") #TODO: make fnames[obj] work right\n",
        "        pdf.savefig()\n",
        "        plt.close()\n",
        "    #0.6 seconds ideal step"
      ],
      "outputs": [],
      "execution_count": null
    },
    {
      "cell_type": "code",
      "metadata": {
        "jukit_cell_id": "yv6qLpbnLI"
      },
      "source": [
        "    #0.6 seconds ideal step\n",
        "    # i/p_true + n where n is an integer all reciprocated is the beat frequency\n",
        "#for i in lsa:\n",
        "#        obj = lsa[i]\n",
        "#        print(lsa[i])\n",
        "folded_light_curve(obj, periods[index], 'out/'+str(obj)+'.pdf')\n",
        "        print('out/'+str(obj)+'.pdf generated.')"
      ],
      "outputs": [
        {
          "output_type": "stream",
          "name": "stdout",
          "text": "\u001b[0;31m----------\u001b[0m\n\u001b[0;31mNameError\u001b[0mTraceback (most recent call last)\nInput \u001b[0;32mIn [94]\u001b[0m, in \u001b[0;36m<cell line: 4>\u001b[0;34m()\u001b[0m\n\u001b[1;32m      4\u001b[0m \u001b[38;5;28;01mfor\u001b[39;00m i \u001b[38;5;129;01min\u001b[39;00m \u001b[38;5;28mrange\u001b[39m(\u001b[38;5;28mlen\u001b[39m(lsa)):\n\u001b[1;32m      5\u001b[0m     obj \u001b[38;5;241m=\u001b[39m lsa[i]\n\u001b[0;32m----> 6\u001b[0m     folded_light_curve(obj, periods[\u001b[43mindex\u001b[49m], \u001b[38;5;124m'\u001b[39m\u001b[38;5;124mout/\u001b[39m\u001b[38;5;124m'\u001b[39m\u001b[38;5;241m+\u001b[39m\u001b[38;5;28mstr\u001b[39m(obj)\u001b[38;5;241m+\u001b[39m\u001b[38;5;124m'\u001b[39m\u001b[38;5;124m.pdf\u001b[39m\u001b[38;5;124m'\u001b[39m)\n\u001b[1;32m      7\u001b[0m     \u001b[38;5;28mprint\u001b[39m(\u001b[38;5;124m'\u001b[39m\u001b[38;5;124mout/\u001b[39m\u001b[38;5;124m'\u001b[39m\u001b[38;5;241m+\u001b[39m\u001b[38;5;28mstr\u001b[39m(obj)\u001b[38;5;241m+\u001b[39m\u001b[38;5;124m'\u001b[39m\u001b[38;5;124m.pdf generated.\u001b[39m\u001b[38;5;124m'\u001b[39m)\n\n\u001b[0;31mNameError\u001b[0m: name 'index' is not defined\n"
        }
      ],
      "execution_count": 9
    }
  ],
  "metadata": {
    "anaconda-cloud": {},
    "kernelspec": {
      "display_name": "python",
      "language": "python",
      "name": "python3"
    }
  },
  "nbformat": 4,
  "nbformat_minor": 4
}