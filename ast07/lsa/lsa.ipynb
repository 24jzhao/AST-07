{
  "cells": [
    {
      "cell_type": "markdown",
      "metadata": {
        "jukit_cell_id": "8hwXvaNZnh"
      },
      "source": [
        "# OVERVIEW:\n",
        "The data required for this project can be found at this link: \n",
        "https://www.cadc-ccda.hia-iha.nrc-cnrc.gc.ca/en/megapipe/cfhtls/dfspt.html\n",
        "One must download the DeepVarFull.tar.gz file and drag it/download it into the Jupyter notebook or project to work with it. The data should contain approximately 28000 files to be extracted in which each file represents an astronomical object. There is information about the object within each file, like its magnitude measurements and the filters in which the measurements were taken, etc.. Each of the astronomical objects had several brightness measurements taken in each of the six filters ('U','G','R','I1','I2', and 'Z' are our names for them).\n",
        "In the code below, you will find that we have combined the fourth and fifth filters (i1 and i2) into a single filter, thus having more magnitude measurements than the other filters."
      ]
    },
    {
      "cell_type": "code",
      "metadata": {
        "jukit_cell_id": "NjtQqynrtp"
      },
      "source": [
        "#downloading gatsby"
      ],
      "outputs": [],
      "execution_count": null
    },
    {
      "cell_type": "code",
      "metadata": {
        "jukit_cell_id": "8X5ZoLSZ5N"
      },
      "source": [
        "import sys\n",
        "#import statements\n",
        "import numpy as np\n",
        "import math\n",
        "import pandas as pd\n",
        "import os\n",
        "import warnings\n",
        "from astropy.stats import sigma_clip\n",
        "from astropy.io import fits\n",
        "import matplotlib.pyplot as plt\n",
        "import numpy.ma as ma\n",
        "import copy\n",
        "from matplotlib import rc\n",
        "import numpy.ma as ma\n",
        "import matplotlib as mpl\n",
        "import sklearn.metrics\n",
        "from itertools import chain\n",
        "from gatspy import datasets, periodic\n",
        "from matplotlib.backends.backend_pdf import PdfPages\n",
        "from sklearn.preprocessing import PolynomialFeatures\n",
        "from sklearn.pipeline import make_pipeline\n",
        "from sklearn.linear_model import LinearRegression\n",
        "\n",
        "rc('font', family='serif')\n",
        "rc('mathtext', fontset='cm')\n",
        "\n",
        "full_file_list = os.listdir('../full') # creates a Python list containing the file paths for every object's time series"
      ],
      "outputs": [],
      "execution_count": null
    },
    {
      "cell_type": "code",
      "metadata": {
        "jukit_cell_id": "YN09D7F4yY"
      },
      "source": [
        "# Cool way to sort array in only one line\n",
        "df = pd.read_csv('csv/all_categ_vals.csv')\n",
        "all_categ_vals = df.values.tolist()\n",
        "\n",
        "#Get indicies for value set\n",
        "three_object_indexes = [w for w,x,y,z in all_categ_vals if (x==3 and y == 3 and z == 3)]"
      ],
      "outputs": [],
      "execution_count": null
    },
    {
      "cell_type": "code",
      "metadata": {
        "jukit_cell_id": "I219QxkTi5"
      },
      "source": [
        "all_mags_narrow = pd.read_csv('csv/all_mags_narrow.csv')#.values.tolist()\n",
        "all_mjd_narrow = pd.read_csv('csv/all_mjd_narrow.csv')#.values.tolist()\n",
        "all_magerrs_narrow = pd.read_csv('csv/all_magerrs_narrow.csv')#.values.tolist()\n",
        "all_mags_narrow.drop('Unnamed: 0',inplace=True,axis=1)\n",
        "all_mjd_narrow.drop('Unnamed: 0',inplace=True,axis=1)\n",
        "all_magerrs_narrow.drop('Unnamed: 0',inplace=True,axis=1)\n",
        "all_mags = all_mags_narrow.values.tolist()\n",
        "all_mjd = all_mjd_narrow.values.tolist()\n",
        "all_magerrs = all_magerrs_narrow.values.tolist()"
      ],
      "outputs": [],
      "execution_count": null
    },
    {
      "cell_type": "code",
      "metadata": {
        "jukit_cell_id": "HGWxOmHzRJ"
      },
      "source": [
        "for i in range(len(all_mags)):\n",
        "    for j in range(len(all_mags[i])):\n",
        "        all_mags[i][j] = all_mags[i][j][1:len(all_mags[i][j])-1].replace('\\n','').split()\n",
        "        all_mjd[i][j] = all_mjd[i][j][1:len(all_mjd[i][j])-1].replace('\\n','').split()\n",
        "        all_magerrs[i][j] = all_magerrs[i][j][1:len(all_magerrs[i][j])-1].replace('\\n','').split()\n",
        "for i in range(len(all_mags)):\n",
        "    for j in range(len(all_mags[i])):\n",
        "        for z in range(len(all_mags[i][j])):\n",
        "            all_mags[i][j][z] = float(all_mags[i][j][z])\n",
        "            all_mjd[i][j][z] = float(all_mjd[i][j][z])\n",
        "            all_magerrs[i][j][z] = float(all_magerrs[i][j][z])"
      ],
      "outputs": [],
      "execution_count": null
    },
    {
      "cell_type": "code",
      "metadata": {
        "jukit_cell_id": "exHE8NGZMb"
      },
      "source": [
        "def data_format (object_number):\n",
        "    filts = []\n",
        "    temp_u = ['u' for i in all_mags[object_number][0]]\n",
        "    temp_g = ['g' for i in all_mags[object_number][1]]\n",
        "    temp_r = ['r' for i in all_mags[object_number][2]]\n",
        "    temp_i = ['i' for i in all_mags[object_number][3]]\n",
        "    temp_z = ['z' for i in all_mags[object_number][4]]\n",
        "    filts.append(temp_u)\n",
        "    filts.append(temp_g)\n",
        "    filts.append(temp_r)\n",
        "    filts.append(temp_i)\n",
        "    filts.append(temp_z)\n",
        "    filts = list(chain.from_iterable(filts))\n",
        "    mags = list(chain.from_iterable(all_mags[object_number])) #turning 2d array into 1d\n",
        "    t = list(chain.from_iterable(all_mjd[object_number]))\n",
        "    #dy = [1 for i in mags]\n",
        "    dy = list(chain.from_iterable(all_magerrs[object_number]))\n",
        "    dy = [99 if i == 0 else i for i in dy]\n",
        "    return t, mags, dy, filts"
      ],
      "outputs": [],
      "execution_count": null
    },
    {
      "cell_type": "code",
      "metadata": {
        "jukit_cell_id": "XUbQvcqmNO"
      },
      "source": [
        "def lomb_scargle_list (object_list):\n",
        "    print(i) #not sure if this actually works, but oh well\n",
        "    max_over_mean = []\n",
        "    for cur_object in object_list:\n",
        "        t, mags, dy, filts = data_format(cur_object)\n",
        "        periods = np.linspace(0.1, 1.0, 100000)\n",
        "        LS_multi = periodic.LombScargleMultiband(Nterms_base=1, Nterms_band=0)#initiate structure variable\n",
        "        LS_multi.fit(t, mags, dy, filts)#input our data\n",
        "        P_multi = LS_multi.periodogram(periods)#function where input is periods\n",
        "        max_over_mean.append(np.max(P_multi)/np.mean(P_multi))\n",
        "    return max_over_mean,object_list"
      ],
      "outputs": [],
      "execution_count": null
    },
    {
      "cell_type": "code",
      "metadata": {
        "jukit_cell_id": "xSkcEvJdom"
      },
      "source": [
        "print('lsa')\n",
        "max_over_mean_threes,object_list = lomb_scargle_list([i for i in range(397)])\n",
        "print('lsa done')\n",
        "print(object_list_saved)\n",
        "max_over_mean_threes_saved = max_over_mean_threes\n",
        "object_list_saved = object_list"
      ],
      "outputs": [],
      "execution_count": null
    },
    {
      "cell_type": "code",
      "metadata": {
        "jukit_cell_id": "ZKXubZNHmX"
      },
      "source": [
        "#print(max_over_mean_threes)\n",
        "narrowed_objects = []\n",
        "for i in range(len(max_over_mean_threes_saved)):\n",
        "    if max_over_mean_threes_saved[i] >= 20:\n",
        "        narrowed_objects.append([object_list_saved[i],max_over_mean_threes_saved[i]])\n",
        "\n",
        "\n",
        "len(narrowed_objects)"
      ],
      "outputs": [
        {
          "output_type": "stream",
          "name": "stdout",
          "text": "\n"
        },
        {
          "output_type": "execute_result",
          "execution_count": 1,
          "data": {
            "text/plain": "158"
          },
          "metadata": {}
        }
      ],
      "execution_count": 1
    },
    {
      "cell_type": "code",
      "metadata": {
        "jukit_cell_id": "5hvgRVGBTX"
      },
      "source": [
        "import csv\n",
        "#dfx = pd.DataFrame(narrowed_objects)\n",
        "with open('blahblah', 'w', newline='') as blah:\n",
        "    wr = csv.writer(blah, quoting=csv.QUOTE_ALL)\n",
        "    wr.writerow(narrowed_objects)"
      ],
      "outputs": [],
      "execution_count": null
    },
    {
      "cell_type": "code",
      "metadata": {
        "jukit_cell_id": "GcNKluNsHb"
      },
      "source": [
        "df_x = pd.DataFrame(narrowed_objects)\n",
        "import base64\n",
        "import pandas as pd\n",
        "from IPython.display import HTML\n",
        "def create_download_link( df, title = \"Download CSV file\", filename = \"data.csv\"):\n",
        "    csv = df.to_csv()\n",
        "    b64 = base64.b64encode(csv.encode())\n",
        "    payload = b64.decode()\n",
        "    html = '<a download=\"{filename}\" href=\"data:text/csv;base64,{payload}\" target=\"_blank\">{title}</a>'\n",
        "    html = html.format(payload=payload,title=title,filename=filename)\n",
        "    return HTML(html)\n",
        "create_download_link(df_x)"
      ],
      "outputs": [
        {
          "output_type": "stream",
          "name": "stdout",
          "text": "\n"
        },
        {
          "output_type": "execute_result",
          "execution_count": 2,
          "data": {
            "text/plain": "<IPython.core.display.HTML object>"
          },
          "metadata": {}
        }
      ],
      "execution_count": 2
    }
  ],
  "metadata": {
    "anaconda-cloud": {},
    "kernelspec": {
      "display_name": "python",
      "language": "python",
      "name": "python3"
    }
  },
  "nbformat": 4,
  "nbformat_minor": 4
}